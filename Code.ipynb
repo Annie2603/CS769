{
  "cells": [
    {
      "cell_type": "code",
      "execution_count": null,
      "metadata": {
        "colab": {
          "base_uri": "https://localhost:8080/"
        },
        "id": "biESZq-_3SgZ",
        "outputId": "237ee6fd-a893-4dc9-c5db-eec89cf68480"
      },
      "outputs": [
        {
          "output_type": "stream",
          "name": "stdout",
          "text": [
            "/content\n"
          ]
        }
      ],
      "source": [
        "!pwd"
      ]
    },
    {
      "cell_type": "code",
      "execution_count": null,
      "metadata": {
        "colab": {
          "base_uri": "https://localhost:8080/"
        },
        "id": "5tBd9tAC4VRt",
        "outputId": "8fcd4239-62a0-4925-b68f-952ffa6811e6"
      },
      "outputs": [
        {
          "output_type": "stream",
          "name": "stdout",
          "text": [
            "D10.txt  D2.txt  D4.txt  D6.txt  D8.txt  sample_data\n",
            "D1.txt\t D3.txt  D5.txt  D7.txt  D9.txt\n"
          ]
        }
      ],
      "source": [
        "!ls"
      ]
    },
    {
      "cell_type": "code",
      "execution_count": null,
      "metadata": {
        "colab": {
          "base_uri": "https://localhost:8080/"
        },
        "id": "brJ6z62O4W9k",
        "outputId": "72eeb77d-1104-4376-a4c0-175224e91fd7"
      },
      "outputs": [
        {
          "output_type": "stream",
          "name": "stdout",
          "text": [
            "D10.txt  D2.txt  D4.txt  D6.txt  D8.txt  docs\n",
            "D1.txt\t D3.txt  D5.txt  D7.txt  D9.txt  sample_data\n"
          ]
        }
      ],
      "source": [
        "!mkdir docs\n",
        "!ls"
      ]
    },
    {
      "cell_type": "code",
      "execution_count": null,
      "metadata": {
        "colab": {
          "base_uri": "https://localhost:8080/"
        },
        "id": "cUaickXD4bBv",
        "outputId": "5af17074-503d-413d-bf81-d064ed21ad0b"
      },
      "outputs": [
        {
          "output_type": "stream",
          "name": "stdout",
          "text": [
            "D10.txt  D2.txt  D4.txt  D6.txt  D8.txt  docs\n",
            "D1.txt\t D3.txt  D5.txt  D7.txt  D9.txt  sample_data\n"
          ]
        }
      ],
      "source": [
        "for i in range(10):\n",
        "  !cp '/content/D{i+1}.txt' '/content/docs/'\n",
        "!ls"
      ]
    },
    {
      "cell_type": "code",
      "execution_count": null,
      "metadata": {
        "colab": {
          "base_uri": "https://localhost:8080/"
        },
        "id": "c2zAIZUO4wAX",
        "outputId": "4eb33144-52ee-4788-8f18-967382caabc9"
      },
      "outputs": [
        {
          "output_type": "stream",
          "name": "stdout",
          "text": [
            "/content/docs\n",
            "D10.txt  D1.txt  D2.txt  D3.txt  D4.txt  D5.txt  D6.txt  D7.txt  D8.txt  D9.txt\n"
          ]
        }
      ],
      "source": [
        "%cd docs\n",
        "!ls"
      ]
    },
    {
      "cell_type": "code",
      "execution_count": null,
      "metadata": {
        "colab": {
          "base_uri": "https://localhost:8080/"
        },
        "id": "XBfhn5PL5D4z",
        "outputId": "8099810d-a9c3-458b-ad66-9429f59e0e9a"
      },
      "outputs": [
        {
          "output_type": "stream",
          "name": "stdout",
          "text": [
            "/content\n"
          ]
        }
      ],
      "source": [
        "%cd .."
      ]
    },
    {
      "cell_type": "code",
      "execution_count": null,
      "metadata": {
        "id": "-8E2IB1A5RY9"
      },
      "outputs": [],
      "source": [
        "# %cd content\n",
        "# for i in range(10):\n",
        "#   !rm 'D{i+1}.txt' \n",
        "# !ls"
      ]
    },
    {
      "cell_type": "code",
      "source": [
        "!pwd\n",
        "!ls"
      ],
      "metadata": {
        "colab": {
          "base_uri": "https://localhost:8080/"
        },
        "id": "CvYaDYKdIlwC",
        "outputId": "12bdf131-c9eb-4ba4-8424-aa338ac24837"
      },
      "execution_count": null,
      "outputs": [
        {
          "output_type": "stream",
          "name": "stdout",
          "text": [
            "/content\n",
            "D10.txt  D2.txt  D4.txt  D6.txt  D8.txt  docs\n",
            "D1.txt\t D3.txt  D5.txt  D7.txt  D9.txt  sample_data\n"
          ]
        }
      ]
    },
    {
      "cell_type": "markdown",
      "source": [
        "## Preparing vocab set"
      ],
      "metadata": {
        "id": "07vR0PpAfiUP"
      }
    },
    {
      "cell_type": "code",
      "source": [
        "%cd /content/docs\n",
        "with open('combined.txt', 'a') as combined_file:\n",
        "    for i in range(10):\n",
        "        with open(f'/content/docs/D{i+1}.txt', 'r') as input_file:\n",
        "            input_contents = input_file.read()\n",
        "            combined_file.write(input_contents)\n",
        "combined_file.close()"
      ],
      "metadata": {
        "id": "U0FnUGyRJD7E",
        "colab": {
          "base_uri": "https://localhost:8080/"
        },
        "outputId": "35a7a8fa-6f7d-4e7f-bddb-7e89d16b07fa"
      },
      "execution_count": null,
      "outputs": [
        {
          "output_type": "stream",
          "name": "stdout",
          "text": [
            "/content/docs\n"
          ]
        }
      ]
    },
    {
      "cell_type": "code",
      "source": [
        "# doc = open('/content/docs/combined.txt', 'r')\n",
        "with open('/content/docs/combined.txt', 'r') as file:\n",
        "    lines = [line.strip() for line in file if line.strip()] #keeping only non empty lines\n",
        "lines"
      ],
      "metadata": {
        "colab": {
          "base_uri": "https://localhost:8080/"
        },
        "id": "LmALWb2fJ1cR",
        "outputId": "df7ab611-eb7a-461f-8fa3-6af173b2dcf8"
      },
      "execution_count": null,
      "outputs": [
        {
          "output_type": "execute_result",
          "data": {
            "text/plain": [
              "[\"Cambodian leader Hun Sen on Friday rejected opposition parties' demands\",\n",
              " \"for talks outside the country, accusing them of trying to ``internationalize''\",\n",
              " 'the political crisis. Government and opposition parties have asked',\n",
              " 'King Norodom Sihanouk to host a summit meeting after a series of post-election',\n",
              " \"negotiations between the two opposition groups and Hun Sen's party\",\n",
              " 'to form a new government failed. Opposition leaders Prince Norodom',\n",
              " \"Ranariddh and Sam Rainsy, citing Hun Sen's threats to arrest opposition\",\n",
              " 'figures after two alleged attempts on his life, said they could not',\n",
              " \"negotiate freely in Cambodia and called for talks at Sihanouk's residence\",\n",
              " 'in Beijing. Hun Sen, however, rejected that. ``I would like to make',\n",
              " 'it clear that all meetings related to Cambodian affairs must be conducted',\n",
              " \"in the Kingdom of Cambodia,'' Hun Sen told reporters after a Cabinet\",\n",
              " 'meeting on Friday. ``No-one should internationalize Cambodian affairs.',\n",
              " \"It is detrimental to the sovereignty of Cambodia,'' he said. Hun Sen's\",\n",
              " \"Cambodian People's Party won 64 of the 122 parliamentary seats in\",\n",
              " \"July's elections, short of the two-thirds majority needed to form\",\n",
              " 'a government on its own. Ranariddh and Sam Rainsy have charged that',\n",
              " \"Hun Sen's victory in the elections was achieved through widespread\",\n",
              " 'fraud. They have demanded a thorough investigation into their election',\n",
              " 'complaints as a precondition for their cooperation in getting the',\n",
              " 'national assembly moving and a new government formed. Hun Sen said',\n",
              " 'on Friday that the opposition concerns over their safety in the country',\n",
              " \"was ``just an excuse for them to stay abroad.'' Both Ranariddh and\",\n",
              " 'Sam Rainsy have been outside the country since parliament was ceremonially',\n",
              " 'opened on Sep. 24. Sam Rainsy and a number of opposition figures have',\n",
              " \"been under court investigation for a grenade attack on Hun Sen's Phnom\",\n",
              " 'Penh residence on Sep. 7. Hun Sen was not home at the time of the',\n",
              " 'attack, which was followed by a police crackdown on demonstrators',\n",
              " \"contesting Hun Sen's election victory. The Sam Rainsy Party, in a\",\n",
              " 'statement released Friday, accused Hun Sen of being ``unwilling to',\n",
              " \"make any compromise'' on negotiations to break the deadlock. ``A meeting\",\n",
              " 'outside Cambodia, as suggested by the opposition, could place all',\n",
              " \"parties on more equal footing,'' said the statement. ``But the ruling\",\n",
              " 'party refuses to negotiate unless it is able to threaten its negotiating',\n",
              " \"partners with arrest or worse.''\",\n",
              " \"King Norodom Sihanouk has declined requests to chair a summit of Cambodia's\",\n",
              " 'top political leaders, saying the meeting would not bring any progress',\n",
              " 'in deadlocked negotiations to form a government. Cambodian leader',\n",
              " \"Hun Sen's ruling party and the two-party opposition had called on\",\n",
              " 'the monarch to lead top-level talks, but disagreed on its location.',\n",
              " '``Papa will not preside over any summit meeting between the three',\n",
              " 'parties, whether it is held in Phnom Penh or Beijing, because such',\n",
              " \"a meeting will certainly achieve no result,'' Sihanouk wrote in an\",\n",
              " 'Oct. 17 letter to his son, Prince Norodom Ranariddh, leader of the',\n",
              " 'senior opposition FUNCINPEC party. A copy of the letter was obtained',\n",
              " 'Thursday. In it, the king called on the three parties to make compromises',\n",
              " 'to end the stalemate: ``Papa would like to ask all three parties to',\n",
              " \"take responsibility before the nation and the people.'' Hun Sen used\",\n",
              " \"Thursday's anniversary of a peace agreement ending the country's civil\",\n",
              " 'war to pressure the opposition to form a coalition government with',\n",
              " 'his party. ``Only those who want to prolong the anarchy and instability',\n",
              " \"prevent efforts to set up a new government,'' Hun Sen said in a televised\",\n",
              " 'speech marking the anniversary of the 1991 Paris Peace Accords. Hun',\n",
              " \"Sen's party won 64 of the 122 seats in parliament in July's national\",\n",
              " 'election, but not the two-thirds majority necessary to form a government',\n",
              " 'on its own. Opposition parties led by Ranariddh and former finance',\n",
              " 'minister Sam Ram Rainsy have refused to enter into a coalition with',\n",
              " 'Hun Sen until their allegations of election fraud have been thoroughly',\n",
              " 'investigated. International monitors said the election was relatively',\n",
              " 'free and fair. Hun Sen said his current government would remain in',\n",
              " 'power as long as the opposition refused to form a new one. Ranariddh',\n",
              " 'and Sam Rainsy have remained outside the country since the Sept. 24',\n",
              " \"ceremonial convening of parliament. Citing Hun Sen's threats to arrest\",\n",
              " 'opposition politicians following two alleged attempts on his life,',\n",
              " 'Ranariddh and Sam Rainsy have said they do not feel safe negotiating',\n",
              " 'inside the country and asked the king to chair the summit at his residence',\n",
              " \"in Beijing. Hun Sen has rejected the opposition's reservations, saying\",\n",
              " 'it would be inappropriate to hold a summit outside the country. Negotiations',\n",
              " 'so far have proved fruitless except for the opening of parliament',\n",
              " 'after a Sept. 22 summit led by the king. Hun Sen implied Thursday',\n",
              " 'that the opposition failed to follow through on promises made at the',\n",
              " 'summit. ``If those results are strictly respected, there seems no',\n",
              " \"reason to hold another summit,'' Hun Sen said in a speech on the anniversary\",\n",
              " 'of the 1991 Paris Peace Accords. Sihanouk is reportedly set to fly',\n",
              " 'to Beijing next month to receive medical treatment from his Chinese',\n",
              " 'doctors. The 75-year-old monarch suffers from a variety ailments and',\n",
              " 'periodically makes extended trips to Beijing. He was diagnosed with',\n",
              " 'colon cancer in 1993, but it has since gone into remission. In September,',\n",
              " 'thousands of people filled the streets of Phnom Penh to protest against',\n",
              " 'the alleged election fraud. Hun Sen ordered police to break up the',\n",
              " 'demonstrations. At least four demonstrators were killed by police,',\n",
              " 'but the discovery of more than 20 bodies in the aftermath has prompted',\n",
              " 'speculation that the death tally could be much higher. In his speech,',\n",
              " 'Hun Sen blamed the violence on opposition leaders, saying the demonstrations',\n",
              " 'instigated social and economic chaos.',\n",
              " \"Cambodia's two-party opposition asked the Asian Development Bank Monday\",\n",
              " 'to stop providing loans to the incumbent government, which it calls',\n",
              " 'illegal. Negotiations to form the next government have become deadlocked,',\n",
              " 'and opposition party leaders Prince Norodom Ranariddh and Sam Rainsy',\n",
              " 'are out of the country following threats of arrest from strongman',\n",
              " 'Hun Sen. Hun Sen complained Monday that the opposition was trying',\n",
              " \"to make its members' return an international issue. Hun Sen's ruling\",\n",
              " 'party narrowly won a majority in elections in July, but the opposition',\n",
              " '_ claiming widespread intimidation and fraud _ has denied Hun Sen',\n",
              " 'the two-thirds vote in parliament required to approve the next government.',\n",
              " 'Meanwhile, it says, the old government is holding power illegally.',\n",
              " 'Ranariddh and Sam Rainsy renewed their international lobbying campaign',\n",
              " 'against the old government Monday in a letter to ADB President Mitsuo',\n",
              " 'Sato calling for the bank to stop lending money to it. ``We respectfully',\n",
              " 'advise the Asian Development Bank not to provide any new loans to',\n",
              " \"the current regime in Cambodia,'' the two party leaders wrote. ``At\",\n",
              " 'best the current regime could be considered a caretaker government',\n",
              " \"as it has not been approved by the National Assembly.'' After a meeting\",\n",
              " 'between Hun Sen and the new French ambassador to Cambodia, Hun Sen',\n",
              " 'aide Prak Sokhonn said the Cambodian leader had repeated calls for',\n",
              " 'the opposition to return, but expressed concern that the international',\n",
              " 'community may be asked for security guarantees. ``There have been',\n",
              " 'reports that there is an attempt to internationalize the return of',\n",
              " \"those members of parliament on the excuse of security problems,''\",\n",
              " 'Prak Sokhonn said. ``Some (opposition politicians) have wanted the',\n",
              " \"United Nations to help guarantee a safe return for them.'' The U.N.\",\n",
              " \"secretary-general's representative office in Phnom Penh provided monitors\",\n",
              " 'to opposition politicians after they returned to Cambodia to participate',\n",
              " 'in the July election. The monitoring ended Sept. 30. ``Our office',\n",
              " 'has not received any official request for that operation to be started',\n",
              " \"up again,'' U.N. diplomat Jonathan Prentice said Monday in reaction\",\n",
              " \"to Prak Sokhonn's statement. The opposition has insisted that any\",\n",
              " 'further talks on the next government must take place outside the country,',\n",
              " 'but the ruling party has rejected allegations of intimidation and',\n",
              " \"recently guaranteed opposition members' safety inside the country.\",\n",
              " 'Diplomatic efforts to revive the stalled talks appeared to bear fruit',\n",
              " 'Monday as Japanese Foreign Affairs Secretary of State Nobutaka Machimura',\n",
              " 'said King Norodom Sihanouk has called on Ranariddh and Sam Rainsy',\n",
              " 'to return to Cambodia. Less than two weeks after abandoning hope that',\n",
              " 'he could influence the parties to reach a compromise, Sihanouk is',\n",
              " \"now ``strongly interested'' in presiding over a summit meeting of\",\n",
              " 'the three party leaders in Cambodia, Machimura said.',\n",
              " \"Cambodia's ruling party responded Tuesday to criticisms of its leader\",\n",
              " \"in the U.S. Congress with a lengthy defense of strongman Hun Sen's\",\n",
              " \"human rights record. The Cambodian People's Party criticized a non-binding\",\n",
              " 'resolution passed earlier this month by the U.S. House of Representatives',\n",
              " 'calling for an investigation into violations of international humanitarian',\n",
              " 'law allegedly committed by Hun Sen. Events mentioned in the resolution',\n",
              " \"include Hun Sen's coup last year against his co-prime minister, Prince\",\n",
              " 'Norodom Ranariddh, and his violent crackdown in September against',\n",
              " 'anti-government demonstrations. A copy of the resolution has since',\n",
              " 'been submitted to the U.S. Senate Committee on Foreign Relations.',\n",
              " '``The CPP would like to launch an appeal to U.S. senators to wisely',\n",
              " 'and realistically consider this draft resolution and give justice',\n",
              " \"to the CPP, Hun Sen and the Cambodian people by not approving it,''\",\n",
              " \"the party said in a statement. It defended Hun Sen's ouster of Ranariddh\",\n",
              " \"as a proper response to the prince's attempts at the time to negotiate\",\n",
              " 'the defections of senior Khmer Rouge rebels. It also repeated claims',\n",
              " \"that the prince's party had moved rebel soldiers into Phnom Penh,\",\n",
              " 'a contention that remains unproved. The killings of nearly 100 of',\n",
              " \"Ranariddh's supporters documented by U.N. human rights workers in\",\n",
              " 'the aftermath of the coup were dismissed by the CPP as mostly fabrications',\n",
              " 'meant to distort the political situation. Ranariddh and his core supporters',\n",
              " 'did not return to Cambodia until a few months before an election in',\n",
              " 'July this year that the ruling party narrowly won. Ranariddh and his',\n",
              " 'opposition ally, Sam Rainsy, refused to accept the election results,',\n",
              " 'alleging widespread intimidation and fraud by the CPP. When their',\n",
              " 'claims were dismissed by a Hun Sen-friendly court, they rallied their',\n",
              " 'supporters into the streets of Phnom Penh. After two weeks of tolerating',\n",
              " 'the demonstrations, Hun Sen ordered a violent crackdown that resulted',\n",
              " 'in the deaths of at least four protesters. U.N. human rights workers',\n",
              " 'later discovered more than 20 bodies _ many bearing signs of torture',\n",
              " '_ in and around the capital, prompting speculation that the death',\n",
              " 'toll could be much higher. The ruling party supported the police action',\n",
              " 'in its statement, noting that public property was damaged by protesters',\n",
              " \"and that grenades were thrown at Hun Sen's home after Sam Rainsy suggested\",\n",
              " 'in a speech that the U.S. government should fire cruise missiles at',\n",
              " 'Hun Sen. The opposition claims the grenade attack was staged as an',\n",
              " 'excuse to begin the crackdown. ``The leaders of illegal demonstrations',\n",
              " 'are the ones who must bear responsibility for the consequences deriving',\n",
              " \"from the protest,'' the CPP said Tuesday, referring to the deadly\",\n",
              " \"violence as ``minor incidents.'' The ruling party also reminded the\",\n",
              " 'United States that Washington supported a Cambodian exile government',\n",
              " 'dominated by the brutal Khmer Rouge in the 1980s. The Khmer Rouge',\n",
              " 'was responsible for the deaths of as many as 2 million people during',\n",
              " \"the guerrilla group's 1975-79 rule of Cambodia. After a series of\",\n",
              " 'border clashes, the Khmer Rouge was ousted from power by an invading',\n",
              " 'Vietnamese army that set up a surrogate Cambodian communist government',\n",
              " 'later led by Hun Sen. The ruling party accused U.S. policy-makers',\n",
              " 'of not taking timely action to save the Cambodian people from the',\n",
              " 'Khmer Rouge. ``They must not make unjust accusations against those',\n",
              " \"who led the struggle to liberate the people from genocide,'' it added.\",\n",
              " \"Cambodia's leading opposition party ruled out sharing the presidency\",\n",
              " 'of Parliament with its arch foe Saturday, insisting it alone must',\n",
              " 'occupy the top position in the legislative body. Disputes over the',\n",
              " 'presidency have been a major stumbling block in talks between the',\n",
              " \"two-party opposition bloc and the Cambodian People's Party to form\",\n",
              " 'a new government. Cambodian leader Hun Sen, who heads the CPP, has',\n",
              " \"offered to share the legislature's top job with the royalist FUNCINPEC\",\n",
              " 'party of Prince Norodom Ranariddh in order to break the impasse. The',\n",
              " \"prince's party, in a statement dated Friday and seen Saturday, said\",\n",
              " 'such a scenario was unconstitutional. ``Co-sharing anything with the',\n",
              " 'CPP means surrendering full power to them. Furthermore, such a proposal',\n",
              " \"is unconstitutional,'' the faxed statement said. The royalist party\",\n",
              " \"also rejected Hun Sen's calls to hold bilateral talks, insisting that\",\n",
              " \"Ranariddh's main ally Sam Rainsy also be included. ``No party with\",\n",
              " 'seats at the National Assembly should be left out if transparency',\n",
              " \"and a check and balance system is to be used in government,'' the\",\n",
              " 'statement said, adding that the Sam Rainsy Party should also be given',\n",
              " \"chairmanship of one of the national assembly's nine commissions. Noting\",\n",
              " 'that FUNCINPEC allowed the CPP to hold the presidency despite its',\n",
              " 'win in the 1993 general elections, the statement said it was now its',\n",
              " 'turn to take the post. In the most recent elections, held in July,',\n",
              " \"Hun Sen's party collected 64 of the 122 parliamentary seats, but was\",\n",
              " 'short of the two-thirds majority needed to set up a new government.',\n",
              " 'Fearing arrest, many opposition members of Parliament left Cambodia',\n",
              " 'after the ceremonial opening of the National Assembly on Sep. 24.',\n",
              " 'A series of negotiations to forge a new government have failed. The',\n",
              " 'talks have been complicated by the CPP-FUNCINPEC quarrel over the',\n",
              " \"Parliament's top job. Hun Sen's party recently called on Ranariddh\",\n",
              " 'to return to the negotiation table and said it was willing to make',\n",
              " \"an ``appropriate concession'' to break the deadlock over forming a\",\n",
              " 'government. FUNCINPEC has demanded from Hun Sen written guarantees',\n",
              " 'for the safety of its members and activities as a precondition for',\n",
              " 're-entering negotiations.',\n",
              " \"Cambodia's bickering political parties broke a three-month deadlock\",\n",
              " 'Friday and agreed to a coalition government leaving strongman Hun',\n",
              " 'Sen as sole prime minister, King Norodom Sihanouk announced. In a',\n",
              " 'long-elusive compromise, opposition leader Prince Norodom Ranariddh',\n",
              " 'will become president of the National Assembly resulting from disputed',\n",
              " \"elections in July, even though Hun Sen's party holds a majority of\",\n",
              " \"64 seats in the 122-member chamber. Hun Sen's Cambodian People's Party\",\n",
              " 'dropped insistence on a joint assembly chairmanship shared by Ranariddh',\n",
              " 'and party boss Chea Sim, the current speaker. It was one of the main',\n",
              " 'stumbling blocks in months of discord. Instead, Sihanouk announced,',\n",
              " 'the constitution will be modified to create a new Senate, which Chea',\n",
              " 'Sim will head. Chea Sim will still serve as acting head of state during',\n",
              " \"the king's frequent absences from the country. ``The major political\",\n",
              " 'crisis in the country has been resolved and the political deadlock',\n",
              " \"facing the nation has also come to an end,'' the king said in his\",\n",
              " 'statement. The Senate will initially be appointed by the king. The',\n",
              " 'agreement did not say how many seats there would be, nor how they',\n",
              " 'would be divided. The parties will hammer out details later. Pok Than,',\n",
              " \"one of Ranariddh's negotiators, said the Senate would serve a mostly\",\n",
              " 'advisory role to the assembly. The senior Senate leaders will join',\n",
              " \"those of the assembly, the prime minister and the country's top two\",\n",
              " 'Buddhist monks in a delicate balance of power on the council that',\n",
              " \"will choose Cambodia's next king after Sihanouk dies. The two parties\",\n",
              " 'said that the assembly would convene again Nov. 25. The agreement',\n",
              " \"came surprisingly quickly following Ranariddh's return Thursday from\",\n",
              " 'Thailand, where he had been holed up with other opposition figures',\n",
              " 'for weeks amid fears for their safety if they stayed in Cambodia.',\n",
              " 'The deal should allow rapid formation of a government between the',\n",
              " \"CPP and Ranariddh's royalist FUNCINPEC to allow international donors\",\n",
              " 'and businesses to again operate in the poverty-stricken country, which',\n",
              " \"is in desperate need of aid. It could also hasten Cambodia's entry\",\n",
              " 'into the Association of Southeast Asian Nations, put on hold last',\n",
              " 'year after Hun Sen deposed Ranariddh as co-prime minister in a bloody',\n",
              " 'coup. Earlier, as both sides arrived at the Royal Palace for a second',\n",
              " 'day of meetings, Sihanouk said they had agreed in principle to form',\n",
              " \"a coalition and made ``important concessions.'' The king, the sole\",\n",
              " 'force in Cambodian politics able to broker a deal, pressured both',\n",
              " 'sides to reach agreement before he leaves Saturday for medical treatment',\n",
              " 'in Beijing. Sihanouk reported that Hun Sen responded positively to',\n",
              " 'a request by Ranariddh for five of his key supporters to receive political',\n",
              " 'pardons. All five were convicted of political crimes by courts that',\n",
              " 'are widely seen as loyal to Hun Sen. The king has powers to grant',\n",
              " 'pardons, but has awaited agreement from Hun Sen in politically sensitive',\n",
              " 'cases. Former battlefield enemies, the CPP and FUNCINPEC have been',\n",
              " 'at loggerheads since the CPP narrowly won parliamentary elections',\n",
              " 'in July. The vote failed to put an end to instability that followed',\n",
              " \"last year's coup. The CPP fell short of the two-thirds majority needed\",\n",
              " \"to form a government alone. Ranariddh's party and opposition ally\",\n",
              " 'Sam Rainsy held back their support, claiming the CPP won due to fraud',\n",
              " 'and intimidation. The opposition organized protests in Phnom Penh',\n",
              " \"seeking Hun Sen's ouster that were violently dispersed. Sam Rainsy,\",\n",
              " 'under investigation by a Phnom Penh court for his role in the demonstrations,',\n",
              " 'has remained abroad. His 15 seats in the 122-seat assembly are irrelevant',\n",
              " 'to forming a working government.',\n",
              " 'Cambodian politicians expressed hope Monday that a new partnership',\n",
              " 'between the parties of strongman Hun Sen and his rival, Prince Norodom',\n",
              " 'Ranariddh, in a coalition government would not end in more violence.',\n",
              " 'Hun Sen and Ranariddh, co-prime ministers in a coalition formed in',\n",
              " '1993 after a landmark U.N.-sponsored election, often clashed over',\n",
              " 'power-sharing and the integration of guerrilla fighters from the crumbling',\n",
              " 'Khmer Rouge. Their arguments turned bloody last year when Hun Sen',\n",
              " 'ousted Ranariddh in a coup. The prince fled Cambodia and did not return',\n",
              " \"until a few months before elections in July. Hun Sen's Cambodian People's\",\n",
              " 'Party narrowly won the polls, but a strong second-place finish by',\n",
              " \"Ranariddh's FUNCINPEC gave the royalist party leverage in post-election\",\n",
              " 'negotiations. After a three-month impasse, they agreed last week to',\n",
              " 'a coalition deal that will make Hun Sen sole prime minister and Ranariddh',\n",
              " 'president of the National Assembly. ``This will not be a repetition',\n",
              " \"of 1993 because there will not be two prime ministers,'' said Hun\",\n",
              " \"Sen aide Prak Sokhon, who attended last week's summit. ``When we had\",\n",
              " 'two prime ministers, everything moved very slowly and decisions were',\n",
              " \"made more politically than technically.'' Ranariddh said Saturday\",\n",
              " 'that the two parties agreed to keep the ministries of interior and',\n",
              " 'defense under co-ministers. Senior FUNCINPEC official Ahmad Yahya',\n",
              " 'revealed Monday that it was also agreed that the CPP would control',\n",
              " 'the foreign affairs and finance portfolios. FUNCINPEC will take justice',\n",
              " 'and information. The parties are to form working groups this week',\n",
              " 'to divide remaining government posts and draft a constitutional amendment',\n",
              " 'to form a new Senate. Hun Sen and Ranariddh are scheduled to meet',\n",
              " 'Nov. 23 _ two days before parliament reopens _ to review the results',\n",
              " 'of the working groups and give their final approval, Ahmad Yahya said.',\n",
              " 'Their ability to repair their relationship and work together will',\n",
              " \"be the key to a stable coalition. ``I consider this a remarriage,''\",\n",
              " 'Ahmad Yahya said. ``They have to be careful with the way they work',\n",
              " \"and what they say. They will have to compromise to achieve results.''\",\n",
              " \"Ranariddh's ally, Sam Rainsy, whose party placed a distant third in\",\n",
              " \"the election, was left out of last week's deal. Sam Rainsy, a virulent\",\n",
              " \"critic of Hun Sen, and his party's 14 other members of parliament\",\n",
              " 'have remained outside Cambodia since September amid fears for their',\n",
              " 'security. In a letter to King Norodom Sihanouk released Monday, Sam',\n",
              " 'Rainsy complained that Hun Sen had not responded to his queries on',\n",
              " 'security, making it unsafe for his people to return for the reconvening',\n",
              " 'of parliament. Sam Rainsy said he had been told by Ranariddh that',\n",
              " 'his party and former Khmer Rouge guerrillas had been implicated by',\n",
              " 'Hun Sen in a rocket attack on the Sept. 24 opening of parliament.',\n",
              " 'Authorities have called it an assassination attempt on Hun Sen. A',\n",
              " 'police general investigating the attack said Monday that likely suspects',\n",
              " 'have been identified, but he would not reveal names or their political',\n",
              " 'affiliation.',\n",
              " 'Cambodian leader Hun Sen has guaranteed the safety and political freedom',\n",
              " 'of all politicians, trying to ease the fears of his rivals that they',\n",
              " 'will be arrested or killed if they return to the country. The assurances',\n",
              " 'were aimed especially at Sam Rainsy, leader of a vocally anti-Hun',\n",
              " 'Sen opposition party, who was forced to take refuge in the U.N. offices',\n",
              " 'in September to avoid arrest after Hun Sen accused him of being behind',\n",
              " 'a plot against his life. Sam Rainsy and the 14 members of parliament',\n",
              " 'from his party have been holed up overseas for two months. But a deal',\n",
              " 'reached between Hun Sen and his chief rival, Prince Norodom Ranariddh,',\n",
              " 'on forming a new government last week has opened the door for their',\n",
              " \"return. In a letter to King Norodom Sihanouk _ the prince's father\",\n",
              " \"and Cambodia's head of state _ that was broadcast on television Tuesday,\",\n",
              " 'Hun Sen said that guarantees of safety extended to Ranariddh applied',\n",
              " 'to all politicians. His assurances come a week before the first session',\n",
              " \"of Cambodia's new parliament, the National Assembly. Sam Rainsy said\",\n",
              " 'Wednesday that he was unsatisfied with the guarantee. He said it contained',\n",
              " 'indirect language and loopholes that suggest he and his Sam Rainsy',\n",
              " \"Party members are still under threat of arrest from Hun Sen's ruling\",\n",
              " 'party. ``It should be easy for them to say, `Rainsy and the SRP members',\n",
              " \"of the assembly have no charges against them and will not be arrested,'''\",\n",
              " 'the opposition leader said in a statement. ``But instead they make',\n",
              " 'roundabout statements, full of loopholes that can easily be exploited',\n",
              " \"by a legal system that is completely in their control.'' Ranariddh\",\n",
              " 'told reporters Wednesday that he believed it was safe for Sam Rainsy',\n",
              " 'in Cambodia. Speaking upon his return from a brief stay in Bangkok,',\n",
              " 'the prince said he would soon meet with Hun Sen to discuss the apportioning',\n",
              " \"of ministries in the new coalition government. Last week, Hun Sen's\",\n",
              " \"Cambodian People's Party and Ranariddh's FUNCINPEC party agreed to\",\n",
              " 'form a coalition that would leave Hun Sen as sole prime minister and',\n",
              " 'make the prince president of the National Assembly. The deal assures',\n",
              " 'the two-thirds vote in parliament needed to approve a new government.',\n",
              " 'The men served as co-prime ministers until Hun Sen overthrew Ranariddh',\n",
              " \"in a coup last year. ``I think Hun Sen has got everything. He's got\",\n",
              " 'the premiership and legitimacy through the election and recognition',\n",
              " \"from his majesty the king. I don't think there is any benefit for\",\n",
              " \"Hun Sen to cause instability for our country,'' Ranariddh said. The\",\n",
              " 'prince also said that his top general, Nhek Bunchhay, would not be',\n",
              " 'given back his previous position as the second-ranking general in',\n",
              " \"the Cambodian military's general staff. Nhek Bunchhay's outnumbered\",\n",
              " 'forces in the capital put up tough but unsuccessful resistance to',\n",
              " \"last year's coup.\",\n",
              " 'Worried that party colleagues still face arrest for their politics,',\n",
              " 'opposition leader Sam Rainsy sought further clarification Friday of',\n",
              " 'security guarantees promised by strongman Hun Sen. Sam Rainsy wrote',\n",
              " 'in a letter to King Norodom Sihanouk that he was eager to attend the',\n",
              " 'first session of the new National Assembly on Nov. 25, but complained',\n",
              " \"that Hun Sen's assurances were not strong enough to ease concerns\",\n",
              " 'his party members may be arrested upon their return to Cambodia. Hun',\n",
              " \"Sen announced a government guarantee Wednesday of all politicians'\",\n",
              " 'safety and their right to conduct political activities ``in accordance',\n",
              " \"with the laws in force.'' Sam Rainsy, who earlier called Hun Sen's\",\n",
              " \"statement ``full of loopholes,'' asked Sihanouk for his help in obtaining\",\n",
              " 'a promise from Hun Sen that all members of the Sam Rainsy Party were',\n",
              " 'free from prosecution for their political activities during and after',\n",
              " \"last July's election. Sam Rainsy, a staunch critic of Hun Sen, was\",\n",
              " 'forced to take refuge in a U.N. office in September to avoid arrest',\n",
              " 'after Hun Sen accused him of being behind a plot against his life.',\n",
              " 'The alleged assassination attempt came during massive street demonstrations',\n",
              " \"organized by the opposition after Hun Sen's Cambodian People's Party\",\n",
              " 'narrowly won the election. The opposition, alleging widespread fraud',\n",
              " 'and intimidation, refused to accept the results of the polls. Fearing',\n",
              " 'for their safety, Sam Rainsy and his then-ally Prince Norodom Ranariddh',\n",
              " 'led an exodus of opposition lawmakers out of Cambodia after parliament',\n",
              " 'was ceremonially opened in late September. Ranariddh, whose FUNCINPEC',\n",
              " 'party finished a close second in the election, returned last week',\n",
              " 'and struck a deal with Hun Sen to form a coalition government. The',\n",
              " 'agreement will make Hun Sen prime minister and Ranariddh president',\n",
              " 'of the National Assembly. The two parties have formed three working',\n",
              " 'groups to hammer out details of the agreement, including the establishment',\n",
              " 'of a Senate to be the upper house of parliament. Sok An, representing',\n",
              " \"Hun Sen's party, said Friday that one working group had completed\",\n",
              " 'its work on a joint political platform to be implemented by the new',\n",
              " 'government. The platform is said to emphasize administrative, economic',\n",
              " 'and judicial reforms, but Sok An would not reveal details, saying',\n",
              " 'Hun Sen would announce it when he presents his Cabinet choices to',\n",
              " 'the National Assembly.',\n",
              " \"King Norodom Sihanouk on Tuesday praised agreements by Cambodia's\",\n",
              " 'top two political parties _ previously bitter rivals _ to form a coalition',\n",
              " 'government led by strongman Hun Sen. In a short letter sent to news',\n",
              " 'agencies, the king said he had received copies of cooperation agreements',\n",
              " \"signed Monday that will place Hun Sen and his Cambodian People's Party\",\n",
              " 'in firm control of fiscal and administrative functions in the government.',\n",
              " '``The protocol on cooperation between the CPP and FUNCINPEC will certainly',\n",
              " \"bring peace and progress to our nation and people,'' Sihanouk wrote.\",\n",
              " 'Uncompromising enemies just a few months ago, Hun Sen and FUNCINPEC',\n",
              " 'President Prince Norodom Ranariddh agreed Nov. 13 to form a government',\n",
              " 'at a summit convened by Sihanouk. The deal, which will make Hun Sen',\n",
              " 'prime minister and Ranariddh president of the National Assembly, ended',\n",
              " 'more than three months of political deadlock that followed a July',\n",
              " 'election narrowly won by Hun Sen. Key to the agreement was the formation',\n",
              " 'of a Senate as the upper house of Parliament, to be led by CPP President',\n",
              " 'Chea Sim, the outgoing head of the National Assembly. Sihanouk, recalling',\n",
              " 'procedures used in a past government, suggested Tuesday that he should',\n",
              " 'appoint the first two members of the upper house. The remaining senators,',\n",
              " 'he said, should be selected by a method agreed upon by the new government',\n",
              " 'and the National Assembly. Hun Sen said Monday that the CPP and FUNCINPEC',\n",
              " 'had agreed that the Senate would be half as large as the 122-seat',\n",
              " 'National Assembly. Other details of the Senate, including how much',\n",
              " 'power it will be given in the promulgation of legislation, have yet',\n",
              " 'to be ironed out by the two parties.']"
            ]
          },
          "metadata": {},
          "execution_count": 10
        }
      ]
    },
    {
      "cell_type": "code",
      "source": [
        "len(lines)"
      ],
      "metadata": {
        "colab": {
          "base_uri": "https://localhost:8080/"
        },
        "id": "-dyeVRyMZa52",
        "outputId": "9573b13d-599f-4c11-ee28-49e564b0517d"
      },
      "execution_count": null,
      "outputs": [
        {
          "output_type": "execute_result",
          "data": {
            "text/plain": [
              "409"
            ]
          },
          "metadata": {},
          "execution_count": 11
        }
      ]
    },
    {
      "cell_type": "code",
      "execution_count": null,
      "metadata": {
        "colab": {
          "base_uri": "https://localhost:8080/",
          "height": 463
        },
        "id": "w4o8NYCa8U6x",
        "outputId": "6827ec55-ff76-4cb8-9a9b-979136d1fc6b"
      },
      "outputs": [
        {
          "output_type": "stream",
          "name": "stderr",
          "text": [
            "[nltk_data] Downloading package stopwords to /root/nltk_data...\n",
            "[nltk_data]   Unzipping corpora/stopwords.zip.\n",
            "[nltk_data] Downloading package punkt to /root/nltk_data...\n",
            "[nltk_data]   Unzipping tokenizers/punkt.zip.\n"
          ]
        },
        {
          "output_type": "error",
          "ename": "ModuleNotFoundError",
          "evalue": "ignored",
          "traceback": [
            "\u001b[0;31m---------------------------------------------------------------------------\u001b[0m",
            "\u001b[0;31mModuleNotFoundError\u001b[0m                       Traceback (most recent call last)",
            "\u001b[0;32m<ipython-input-12-cd7dcb722aa7>\u001b[0m in \u001b[0;36m<cell line: 17>\u001b[0;34m()\u001b[0m\n\u001b[1;32m     15\u001b[0m \u001b[0;32mfrom\u001b[0m \u001b[0mnltk\u001b[0m\u001b[0;34m.\u001b[0m\u001b[0mstem\u001b[0m \u001b[0;32mimport\u001b[0m \u001b[0mWordNetLemmatizer\u001b[0m\u001b[0;34m\u001b[0m\u001b[0;34m\u001b[0m\u001b[0m\n\u001b[1;32m     16\u001b[0m \u001b[0;31m# import numpy as np\u001b[0m\u001b[0;34m\u001b[0m\u001b[0;34m\u001b[0m\u001b[0m\n\u001b[0;32m---> 17\u001b[0;31m \u001b[0;32mimport\u001b[0m \u001b[0mcupy\u001b[0m \u001b[0;32mas\u001b[0m \u001b[0mnp\u001b[0m\u001b[0;34m\u001b[0m\u001b[0;34m\u001b[0m\u001b[0m\n\u001b[0m\u001b[1;32m     18\u001b[0m \u001b[0;32mfrom\u001b[0m \u001b[0mstring\u001b[0m \u001b[0;32mimport\u001b[0m \u001b[0mpunctuation\u001b[0m\u001b[0;34m\u001b[0m\u001b[0;34m\u001b[0m\u001b[0m\n\u001b[1;32m     19\u001b[0m \u001b[0;34m\u001b[0m\u001b[0m\n",
            "\u001b[0;31mModuleNotFoundError\u001b[0m: No module named 'cupy'",
            "",
            "\u001b[0;31m---------------------------------------------------------------------------\u001b[0;32m\nNOTE: If your import is failing due to a missing package, you can\nmanually install dependencies using either !pip or !apt.\n\nTo view examples of installing some common dependencies, click the\n\"Open Examples\" button below.\n\u001b[0;31m---------------------------------------------------------------------------\u001b[0m\n"
          ],
          "errorDetails": {
            "actions": [
              {
                "action": "open_url",
                "actionText": "Open Examples",
                "url": "/notebooks/snippets/importing_libraries.ipynb"
              }
            ]
          }
        }
      ],
      "source": [
        "import warnings\n",
        "warnings.simplefilter(action='ignore', category=FutureWarning)\n",
        "import pandas as pd\n",
        "import re\n",
        "import nltk\n",
        "nltk.download('stopwords')\n",
        "nltk.download('punkt')\n",
        "import nltk.tokenize as token\n",
        "from nltk.tokenize import WhitespaceTokenizer, WordPunctTokenizer, TreebankWordTokenizer\n",
        "from nltk.corpus import stopwords\n",
        "from nltk.corpus import wordnet\n",
        "import time\n",
        "import string\n",
        "from nltk.stem.porter import PorterStemmer\n",
        "from nltk.stem import WordNetLemmatizer \n",
        "# import numpy as np\n",
        "import cupy as np\n",
        "from string import punctuation\n",
        "\n",
        "stop_words = set(stopwords.words('english'))\n",
        "stop_words.remove(\"very\")\n",
        "stop_words.add(\"th\")\n",
        "stop_words.add(\"a\")\n",
        "stop_words.add(\"r\")\n",
        "stop_words.add(\"s\")"
      ]
    },
    {
      "cell_type": "code",
      "execution_count": null,
      "metadata": {
        "id": "fYMw887uACBN"
      },
      "outputs": [],
      "source": [
        "def convert_to_lower(text):\n",
        "    # return the reviews after convering then to lowercase\n",
        "    # Words with different cases are intercepted differently such as 'The' and 'the'. \n",
        "    # Hence all words should be converted into same case, preferably lower case.\n",
        "    l=''\n",
        "    for t in text:\n",
        "      l+= t.lower()\n",
        "    return l\n",
        "\n",
        "def remove_punctuation(text):\n",
        "    # return the reviews after removing punctuations\n",
        "    # Refer: https://www3.ntu.edu.sg/home/ehchua/programming/howto/Regexe.html\n",
        "    l = ''\n",
        "    # \\w : word character\n",
        "    # \\W : non-word character\n",
        "    # \\d : digits\n",
        "    # \\D : non-digits\n",
        "    for t in text:\n",
        "        l+=re.sub(r'[^\\w\\s]|^\\s\\d+\\s|\\s\\d+|\\d+|\\s\\d+$', ' ', t) #|^\\s\\d+\\s|\\s\\d+|\\d+|\\s\\d+$\n",
        "    return l\n",
        "\n",
        "def perform_tokenization(text):\n",
        "    text = token.word_tokenize(text)\n",
        "    return text\n",
        "\n",
        "def remove_stopwords(text):\n",
        "    # return the reviews after removing the stopwords\n",
        "    # Stopwords are the most common words in a language. For example 'is', 'the', 'that' etc. are stopwords in English language. Stopwords shall be removed during text clean-up phase. However removing stop word can change the meaning of sentence. \n",
        "    # For instance 'I didn't love politics' will get converted to 'I love politics' after removing stopword.  \n",
        "    l = [word for word in text if word not in stop_words]\n",
        "    return l\n",
        "\n",
        "stemmer = PorterStemmer()\n",
        "def stem_words(text):\n",
        "    # a process of removing and replacing suffixes to get the root form of the word.\n",
        "    # Porterstemmer is rule based. (eg: dogs -> dog)\n",
        "    return \" \".join([stemmer.stem(word) for word in text.split()])"
      ]
    },
    {
      "cell_type": "code",
      "execution_count": null,
      "metadata": {
        "id": "iTSmp5SJldB7"
      },
      "outputs": [],
      "source": [
        "# def compute_Vocabulary(text):\n",
        "#   vocab = {} #dictionary of unique words and its frequency\n",
        "#   for sentence in text:\n",
        "#     for word in sentence:\n",
        "#       if word not in vocab.keys():\n",
        "#         vocab[word] = 1\n",
        "#       else:\n",
        "#         vocab[word]+=1\n",
        "#   len_vocab = len(vocab.keys())\n",
        "#   word_list = [key for key in vocab.keys()] #list of unique words\n",
        "#   index_vocab = dict((word_list[i],i) for i in range(len_vocab)) #giving index to each unique word\n",
        "#   #do we want keys to be sorted?\n",
        "#   return index_vocab, len_vocab"
      ]
    },
    {
      "cell_type": "code",
      "execution_count": null,
      "metadata": {
        "id": "DzLvl7SkAbWE"
      },
      "outputs": [],
      "source": [
        "l1 = lines"
      ]
    },
    {
      "cell_type": "code",
      "execution_count": null,
      "metadata": {
        "id": "1vmLn9BwfXfU"
      },
      "outputs": [],
      "source": [
        "l1l = [convert_to_lower(sent) for sent in l1]\n",
        "l1p = [remove_punctuation(sent) for sent in l1l]\n",
        "# l_stemmed = [stem_words(sent) for sent in l1p]\n",
        "V = [stem_words(sent) for sent in l1p]\n",
        "# l1 = [sent[:-2] for sent in l_stemmed]\n",
        "# l1_words = [perform_tokenization(sent) for sent in l_stemmed]\n",
        "# V = [remove_stopwords(sent) for sent in l1_words]\n",
        "# V = [sent for sent in l_words if len(sent)>0]\n",
        "# l3 = [word for word in V[2]]\n",
        "# # print(l1)\n",
        "# # print(l_stemmed[2])\n",
        "# # print(l1_words[2])\n",
        "# print(l3)\n",
        "print(V[2])\n",
        "print(len(V))"
      ]
    },
    {
      "cell_type": "code",
      "source": [
        "l1 = perform_tokenization(V[0])\n",
        "i =  remove_stopwords(l1)\n",
        "print(l1)\n",
        "print(i)"
      ],
      "metadata": {
        "id": "vdiSgH8SLsak"
      },
      "execution_count": null,
      "outputs": []
    },
    {
      "cell_type": "code",
      "source": [
        "!ls\n"
      ],
      "metadata": {
        "id": "KjtXLvZIXpcI"
      },
      "execution_count": null,
      "outputs": []
    },
    {
      "cell_type": "code",
      "source": [
        "def pre_process_file(file_path):\n",
        "  with open(file_path, \"r\") as f1:\n",
        "    txtl = f1.readlines()\n",
        "    txtll = [convert_to_lower(sent) for sent in txtl]\n",
        "    txtlp = [remove_punctuation(sent) for sent in txtll]\n",
        "    txtlV = [stem_words(sent) for sent in txtlp]\n",
        "  with open(file_path, \"w\") as f2:\n",
        "    for sent in txtlV:\n",
        "      f2.write(sent + \"\\n\")  "
      ],
      "metadata": {
        "id": "SLa65QUtLvk0"
      },
      "execution_count": null,
      "outputs": []
    },
    {
      "cell_type": "code",
      "source": [
        "for i in range(10):\n",
        "  pre_process_file(f\"/content/docs/D{i+1}.txt\")"
      ],
      "metadata": {
        "id": "kpGzI5bsnG8k"
      },
      "execution_count": null,
      "outputs": []
    },
    {
      "cell_type": "markdown",
      "source": [
        "## Submod Functions"
      ],
      "metadata": {
        "id": "681LBGN0fqpT"
      }
    },
    {
      "cell_type": "code",
      "source": [
        "#hyperparameters to be tuned\n",
        "K = 17 #paper recommends 0.2N for this dataset\n",
        "alpha = 0.8 #limits exhaustiveness of similarity function\n",
        "lmbda = 0.5 #coverage diversity trade off"
      ],
      "metadata": {
        "id": "QjNmqZBVhOIM"
      },
      "execution_count": null,
      "outputs": []
    },
    {
      "cell_type": "code",
      "execution_count": null,
      "metadata": {
        "id": "QW9GFgvdgWJ5"
      },
      "outputs": [],
      "source": [
        "#each document cluster has 10 documents\n",
        "def idf(w): #log of ratio of no. of articles with word w to the total no. of articles\n",
        "  #D is the document cluster\n",
        "  #return log according to the format of D\n",
        "  c = 0 #look for bigram???\n",
        "  for i in range(10):\n",
        "    with open(f'D{i+1}.txt', 'r') as f:\n",
        "      contents = f.read()\n",
        "    if w in contents:\n",
        "      c = c+1\n",
        "  # print(c)\n",
        "  return np.log(c/2) + 10e-5\n",
        "\n",
        "def cos_similarity(i1,j1):# i and j are non tokenized sentences\n",
        "  l1 = perform_tokenization(i1)\n",
        "  i =  remove_stopwords(l1)\n",
        "  l2 = perform_tokenization(j1)\n",
        "  j =  remove_stopwords(l2)\n",
        "  print(i)\n",
        "  print(j)\n",
        "  num = 0\n",
        "  for w in i:\n",
        "    tf_wi = len([word for word in i if word == w])\n",
        "    # print(tf_wi)\n",
        "    tf_wj = len([word for word in j if word == w])\n",
        "    # print(tf_wj)\n",
        "    idf_w = idf(w)\n",
        "    num += tf_wi * tf_wj * idf_w**2\n",
        "  d1 = 0\n",
        "  for w in i:\n",
        "    tf_wi = len([word for word in i if word == w])\n",
        "    # print(tf_wi)\n",
        "    idf_w = idf(w)\n",
        "    d1 += tf_wi**2 * idf_w**2\n",
        "\n",
        "  d2 = 0\n",
        "  for w in j:\n",
        "    tf_wj = len([word for word in j if word == w])\n",
        "    # print(tf_wj)\n",
        "    idf_w = idf(w)\n",
        "    d2 += tf_wj**2 * idf_w**2\n",
        "\n",
        "  w_ij = num/(d1*d2)**0.5\n",
        "  return w_ij"
      ]
    },
    {
      "cell_type": "code",
      "execution_count": null,
      "metadata": {
        "id": "DkpxsMWErCn0"
      },
      "outputs": [],
      "source": [
        "#coverage function\n",
        "#S - summary set, V - document\n",
        "def coverage(S):\n",
        "  L = [min(np.sum(np.array([cos_similarity(i,j) for j in S])), alpha*np.sum(np.array([cos_similarity(i,k) for k in V]))) for i in V] \n",
        "  L = np.array(L)\n",
        "  return np.sum(L)"
      ]
    },
    {
      "cell_type": "code",
      "source": [
        "# !apt-get install cluto\n"
      ],
      "metadata": {
        "id": "B8As3j-go2Hp"
      },
      "execution_count": null,
      "outputs": []
    },
    {
      "cell_type": "code",
      "source": [
        "#CLUTO clustering shitttttttttttttttttttttttttttttttttttttttttttt!!!!!!!!!\n",
        "# import subprocess\n",
        "\n",
        "# #Convert the input file to the sparse matrix format used by CLUTO with IDF weighting\n",
        "# subprocess.run([\"doc2mat\", \"-m\", \"tfidf\", \"-n\", \"l1\", \"combined.txt\", \"output.mat\"])\n",
        "\n",
        "# # Run the CLUTO command to generate K clusters of sentences\n",
        "# subprocess.run([\"cluto\", \"-nclusters\", str(K), \"-S\", \"output.mat\"])\n",
        "\n",
        "# # Read the cluster assignments from the output file generated by CLUTO\n",
        "# cluster_file = open(\"output.mat.rlabels\")\n",
        "# cluster_assignments = [int(line.strip()) for line in cluster_file]\n",
        "# cluster_file.close()\n",
        "\n",
        "# # Group the sentences into sets based on their cluster assignments\n",
        "# # sentences_file = open(\"combined.txt\")\n",
        "# # sentences = [line.strip() for line in sentences_file]\n",
        "# # sentences_file.close()\n",
        "\n",
        "# partition_sets = [set() for _ in range(K)]\n",
        "# for i in range(len(V)):\n",
        "#     partition_sets[cluster_assignments[i]].add(V[i])\n",
        "\n",
        "# # Print the K sets of sentences\n",
        "# # for i, partition_set in enumerate(partition_sets):\n",
        "# #     print(\"Cluster\", i + 1, \":\")\n",
        "# #     for sentence in sentence_set:\n",
        "# #         print(\"   -\", sentence)\n",
        "# # for i in range(K):\n",
        "# #   P_{i} = set(partition_sets[i])"
      ],
      "metadata": {
        "id": "8g6JM9veVZpc"
      },
      "execution_count": null,
      "outputs": []
    },
    {
      "cell_type": "code",
      "source": [
        "from sklearn.feature_extraction.text import TfidfVectorizer\n",
        "from sklearn.cluster import KMeans\n",
        "\n",
        "# Compute TF-IDF vectors for the sentences\n",
        "vectorizer = TfidfVectorizer()\n",
        "X = vectorizer.fit_transform(lines)\n",
        "\n",
        "# Cluster the sentences using k-means\n",
        "kmeans = KMeans(n_clusters=K, random_state=0)\n",
        "labels = kmeans.fit(X).labels_\n",
        "\n",
        "# print(len(labels))\n",
        "# print(labels[408])\n",
        "# print(labels.shape)\n",
        "\n",
        "# Create a set for each label\n",
        "partition_lists = [[] for _ in range(K)]\n",
        "for i in range(len(V)):\n",
        "    partition_lists[labels[i]].append(V[i])\n",
        "\n",
        "print(partition_lists[0]) #list\n",
        "partition_sets = [set(partition_list) for partition_list in partition_lists]\n",
        "print(partition_sets[0]) #set"
      ],
      "metadata": {
        "colab": {
          "base_uri": "https://localhost:8080/",
          "height": 244
        },
        "id": "TS9zD-61_-UP",
        "outputId": "5618b170-47f6-45e8-810a-ea1ffe659555"
      },
      "execution_count": null,
      "outputs": [
        {
          "output_type": "error",
          "ename": "NameError",
          "evalue": "ignored",
          "traceback": [
            "\u001b[0;31m---------------------------------------------------------------------------\u001b[0m",
            "\u001b[0;31mNameError\u001b[0m                                 Traceback (most recent call last)",
            "\u001b[0;32m<ipython-input-15-43436ae7b005>\u001b[0m in \u001b[0;36m<cell line: 9>\u001b[0;34m()\u001b[0m\n\u001b[1;32m      7\u001b[0m \u001b[0;34m\u001b[0m\u001b[0m\n\u001b[1;32m      8\u001b[0m \u001b[0;31m# Cluster the sentences using k-means\u001b[0m\u001b[0;34m\u001b[0m\u001b[0;34m\u001b[0m\u001b[0m\n\u001b[0;32m----> 9\u001b[0;31m \u001b[0mkmeans\u001b[0m \u001b[0;34m=\u001b[0m \u001b[0mKMeans\u001b[0m\u001b[0;34m(\u001b[0m\u001b[0mn_clusters\u001b[0m\u001b[0;34m=\u001b[0m\u001b[0mK\u001b[0m\u001b[0;34m,\u001b[0m \u001b[0mrandom_state\u001b[0m\u001b[0;34m=\u001b[0m\u001b[0;36m0\u001b[0m\u001b[0;34m)\u001b[0m\u001b[0;34m\u001b[0m\u001b[0;34m\u001b[0m\u001b[0m\n\u001b[0m\u001b[1;32m     10\u001b[0m \u001b[0mlabels\u001b[0m \u001b[0;34m=\u001b[0m \u001b[0mkmeans\u001b[0m\u001b[0;34m.\u001b[0m\u001b[0mfit\u001b[0m\u001b[0;34m(\u001b[0m\u001b[0mX\u001b[0m\u001b[0;34m)\u001b[0m\u001b[0;34m.\u001b[0m\u001b[0mlabels_\u001b[0m\u001b[0;34m\u001b[0m\u001b[0;34m\u001b[0m\u001b[0m\n\u001b[1;32m     11\u001b[0m \u001b[0;34m\u001b[0m\u001b[0m\n",
            "\u001b[0;31mNameError\u001b[0m: name 'K' is not defined"
          ]
        }
      ]
    },
    {
      "cell_type": "code",
      "source": [
        "my_list = [[[1], [2], [3]], [[4], [5], [6]], [[7], [8], [9]]]\n",
        "\n",
        "my_set_list = [set(tuple(i) for i in sublist) for sublist in my_list]\n",
        "\n",
        "print(my_set_list)"
      ],
      "metadata": {
        "id": "XTyOFa4HH5Cn"
      },
      "execution_count": null,
      "outputs": []
    },
    {
      "cell_type": "code",
      "execution_count": null,
      "metadata": {
        "id": "L8YroCrqtxBr"
      },
      "outputs": [],
      "source": [
        "# def diversity(P_i, V, N):\n",
        "def diversity(M): # consider M to be a list of S intersection P_i for i from 1 to K\n",
        "  N = len(V)\n",
        "  # D = [1/N*np.sum([cos_similarity(i,j) for i in V]) for j in P_i]\n",
        "  D = [1/N*np.sum(np.array([cos_similarity(i,j) for i in V])) for j in M]\n",
        "  D = np.array(D)\n",
        "  return np.sum(D)\n",
        "\n",
        "#diversity reward function\n",
        "# def reward(S,M): # consider M to be a list of S intersection P_i for i from 1 to K\n",
        "def reward(S):\n",
        "  R = [np.sqrt(diversity(partition_sets[i].intersection(S))) for i in range(K)]\n",
        "  # R=[]\n",
        "  # for i in range(K):\n",
        "  #   M = partition_sets[i].intersection(S) \n",
        "  #   R.append(np.sqrt(diversity(M)))\n",
        "  #   R = [np.sqrt(diversity(M,V)) for P_i in M]\n",
        "  R = np.array(R)\n",
        "  return np.sum(R)"
      ]
    },
    {
      "cell_type": "code",
      "source": [
        "a = [1,2,3]\n",
        "# print(np.sum(a))\n",
        "r = np.array(a)\n",
        "print(np.sum(r))"
      ],
      "metadata": {
        "colab": {
          "base_uri": "https://localhost:8080/",
          "height": 226
        },
        "id": "dpj7lL-OkSUz",
        "outputId": "4f314df5-53e6-44e2-c602-ce6a07af18b7"
      },
      "execution_count": null,
      "outputs": [
        {
          "output_type": "error",
          "ename": "NameError",
          "evalue": "ignored",
          "traceback": [
            "\u001b[0;31m---------------------------------------------------------------------------\u001b[0m",
            "\u001b[0;31mNameError\u001b[0m                                 Traceback (most recent call last)",
            "\u001b[0;32m<ipython-input-17-7cdefc27b83d>\u001b[0m in \u001b[0;36m<cell line: 3>\u001b[0;34m()\u001b[0m\n\u001b[1;32m      1\u001b[0m \u001b[0ma\u001b[0m \u001b[0;34m=\u001b[0m \u001b[0;34m[\u001b[0m\u001b[0;36m1\u001b[0m\u001b[0;34m,\u001b[0m\u001b[0;36m2\u001b[0m\u001b[0;34m,\u001b[0m\u001b[0;36m3\u001b[0m\u001b[0;34m]\u001b[0m\u001b[0;34m\u001b[0m\u001b[0;34m\u001b[0m\u001b[0m\n\u001b[1;32m      2\u001b[0m \u001b[0;31m# print(np.sum(a))\u001b[0m\u001b[0;34m\u001b[0m\u001b[0;34m\u001b[0m\u001b[0m\n\u001b[0;32m----> 3\u001b[0;31m \u001b[0mr\u001b[0m \u001b[0;34m=\u001b[0m \u001b[0mnp\u001b[0m\u001b[0;34m.\u001b[0m\u001b[0marray\u001b[0m\u001b[0;34m(\u001b[0m\u001b[0ma\u001b[0m\u001b[0;34m)\u001b[0m\u001b[0;34m\u001b[0m\u001b[0;34m\u001b[0m\u001b[0m\n\u001b[0m\u001b[1;32m      4\u001b[0m \u001b[0mprint\u001b[0m\u001b[0;34m(\u001b[0m\u001b[0mnp\u001b[0m\u001b[0;34m.\u001b[0m\u001b[0msum\u001b[0m\u001b[0;34m(\u001b[0m\u001b[0mr\u001b[0m\u001b[0;34m)\u001b[0m\u001b[0;34m)\u001b[0m\u001b[0;34m\u001b[0m\u001b[0;34m\u001b[0m\u001b[0m\n",
            "\u001b[0;31mNameError\u001b[0m: name 'np' is not defined"
          ]
        }
      ]
    },
    {
      "cell_type": "code",
      "execution_count": null,
      "metadata": {
        "id": "sBVAEgSpvR54"
      },
      "outputs": [],
      "source": [
        "def submod_f(X):\n",
        "  return coverage(X) + lmbda*reward(X)"
      ]
    },
    {
      "cell_type": "markdown",
      "source": [
        "## Generating Summary"
      ],
      "metadata": {
        "id": "Ts8bWBWOfy8n"
      }
    },
    {
      "cell_type": "code",
      "source": [
        "budget = 20 #same budget as reference summary\n",
        "\n",
        "summary = []\n",
        "# op_summary = []\n",
        "\n",
        "X = set()\n",
        "\n",
        "while len(summary) < budget:\n",
        "    gains = [submod_f(X.union({sent})) - submod_f(X) for sent in V]\n",
        "    best_sent_idx = np.argmax(np.array(gains))\n",
        "    best_sent_idx = int(best_sent_idx)\n",
        "    summary.append(lines[best_sent_idx])\n",
        "    X = X.union({V[best_sent_idx]})\n",
        "    print(lines[best_sent_idx])\n",
        "    # op_summary.append(V[best_sent_idx])\n",
        "\n",
        "print(summary)"
      ],
      "metadata": {
        "id": "l8o3N5AUfxYG"
      },
      "execution_count": null,
      "outputs": []
    },
    {
      "cell_type": "code",
      "source": [
        "with open(\"final_summary.txt\", \"w\") as file:\n",
        "    for sent in summary:\n",
        "        file.write(sent + \"\\n\")  \n",
        "file.close()"
      ],
      "metadata": {
        "id": "VjVibo2BcQFa"
      },
      "execution_count": null,
      "outputs": []
    },
    {
      "cell_type": "markdown",
      "source": [
        "## ROGUE Function"
      ],
      "metadata": {
        "id": "-H1pcuJ5gwMq"
      }
    },
    {
      "cell_type": "code",
      "source": [
        "!pwd\n"
      ],
      "metadata": {
        "colab": {
          "base_uri": "https://localhost:8080/"
        },
        "id": "1DfnuK6xpBa6",
        "outputId": "b9195ac3-ae1c-49d7-c116-d88606fa08af"
      },
      "execution_count": null,
      "outputs": [
        {
          "output_type": "stream",
          "name": "stdout",
          "text": [
            "/content/docs\n"
          ]
        }
      ]
    },
    {
      "cell_type": "code",
      "source": [
        "%cd .."
      ],
      "metadata": {
        "colab": {
          "base_uri": "https://localhost:8080/"
        },
        "id": "MlqV2ihMpGLv",
        "outputId": "f081072c-de4d-4480-d343-cd87b1d9cffa"
      },
      "execution_count": null,
      "outputs": [
        {
          "output_type": "stream",
          "name": "stdout",
          "text": [
            "/content\n"
          ]
        }
      ]
    },
    {
      "cell_type": "code",
      "source": [
        "!git clone https://github.com/pltrdy/rouge\n",
        "\n"
      ],
      "metadata": {
        "colab": {
          "base_uri": "https://localhost:8080/"
        },
        "id": "10uA9AeylrW0",
        "outputId": "c5b1220d-f0fd-47ce-d2c8-be38a6615b06"
      },
      "execution_count": null,
      "outputs": [
        {
          "output_type": "stream",
          "name": "stdout",
          "text": [
            "Cloning into 'rouge'...\n",
            "remote: Enumerating objects: 286, done.\u001b[K\n",
            "remote: Counting objects: 100% (39/39), done.\u001b[K\n",
            "remote: Compressing objects: 100% (32/32), done.\u001b[K\n",
            "remote: Total 286 (delta 13), reused 21 (delta 7), pack-reused 247\u001b[K\n",
            "Receiving objects: 100% (286/286), 81.00 KiB | 11.57 MiB/s, done.\n",
            "Resolving deltas: 100% (130/130), done.\n"
          ]
        }
      ]
    },
    {
      "cell_type": "code",
      "source": [
        "!ls\n"
      ],
      "metadata": {
        "colab": {
          "base_uri": "https://localhost:8080/"
        },
        "id": "kDAjj8L0pO-c",
        "outputId": "94264f7b-1333-40e2-d4e2-11e29e6d675e"
      },
      "execution_count": null,
      "outputs": [
        {
          "output_type": "stream",
          "name": "stdout",
          "text": [
            "docs  rouge  sample_data\n"
          ]
        }
      ]
    },
    {
      "cell_type": "code",
      "source": [
        "%cd rouge\n"
      ],
      "metadata": {
        "colab": {
          "base_uri": "https://localhost:8080/"
        },
        "id": "9kgXgpIKpTO1",
        "outputId": "57b47390-148f-4e74-85f0-b04241a64f53"
      },
      "execution_count": null,
      "outputs": [
        {
          "output_type": "stream",
          "name": "stdout",
          "text": [
            "/content/rouge\n"
          ]
        }
      ]
    },
    {
      "cell_type": "code",
      "source": [
        "!python setup.py install"
      ],
      "metadata": {
        "id": "lPDvXD-ZpXNc",
        "colab": {
          "base_uri": "https://localhost:8080/"
        },
        "outputId": "1325ad51-3721-4e84-b833-e7a3741a3e6e"
      },
      "execution_count": null,
      "outputs": [
        {
          "output_type": "stream",
          "name": "stdout",
          "text": [
            "running install\n",
            "/usr/lib/python3.10/distutils/cmd.py:62: SetuptoolsDeprecationWarning: setup.py install is deprecated.\n",
            "!!\n",
            "\n",
            "        ********************************************************************************\n",
            "        Please avoid running ``setup.py`` directly.\n",
            "        Instead, use pypa/build, pypa/installer, pypa/build or\n",
            "        other standards-based tools.\n",
            "\n",
            "        See https://blog.ganssle.io/articles/2021/10/setup-py-deprecated.html for details.\n",
            "        ********************************************************************************\n",
            "\n",
            "!!\n",
            "  self.initialize_options()\n",
            "/usr/lib/python3.10/distutils/cmd.py:62: EasyInstallDeprecationWarning: easy_install command is deprecated.\n",
            "!!\n",
            "\n",
            "        ********************************************************************************\n",
            "        Please avoid running ``setup.py`` and ``easy_install``.\n",
            "        Instead, use pypa/build, pypa/installer, pypa/build or\n",
            "        other standards-based tools.\n",
            "\n",
            "        See https://github.com/pypa/setuptools/issues/917 for details.\n",
            "        ********************************************************************************\n",
            "\n",
            "!!\n",
            "  self.initialize_options()\n",
            "running bdist_egg\n",
            "running egg_info\n",
            "creating rouge.egg-info\n",
            "writing rouge.egg-info/PKG-INFO\n",
            "writing dependency_links to rouge.egg-info/dependency_links.txt\n",
            "writing entry points to rouge.egg-info/entry_points.txt\n",
            "writing requirements to rouge.egg-info/requires.txt\n",
            "writing top-level names to rouge.egg-info/top_level.txt\n",
            "writing manifest file 'rouge.egg-info/SOURCES.txt'\n",
            "reading manifest file 'rouge.egg-info/SOURCES.txt'\n",
            "reading manifest template 'MANIFEST.in'\n",
            "adding license file 'LICENSE'\n",
            "writing manifest file 'rouge.egg-info/SOURCES.txt'\n",
            "installing library code to build/bdist.linux-x86_64/egg\n",
            "running install_lib\n",
            "running build_py\n",
            "creating build\n",
            "creating build/lib\n",
            "creating build/lib/rouge\n",
            "copying rouge/rouge.py -> build/lib/rouge\n",
            "copying rouge/__init__.py -> build/lib/rouge\n",
            "copying rouge/rouge_score.py -> build/lib/rouge\n",
            "creating build/lib/bin\n",
            "copying bin/__init__.py -> build/lib/bin\n",
            "copying bin/rouge_cmd.py -> build/lib/bin\n",
            "creating build/bdist.linux-x86_64\n",
            "creating build/bdist.linux-x86_64/egg\n",
            "creating build/bdist.linux-x86_64/egg/rouge\n",
            "copying build/lib/rouge/rouge.py -> build/bdist.linux-x86_64/egg/rouge\n",
            "copying build/lib/rouge/__init__.py -> build/bdist.linux-x86_64/egg/rouge\n",
            "copying build/lib/rouge/rouge_score.py -> build/bdist.linux-x86_64/egg/rouge\n",
            "creating build/bdist.linux-x86_64/egg/bin\n",
            "copying build/lib/bin/__init__.py -> build/bdist.linux-x86_64/egg/bin\n",
            "copying build/lib/bin/rouge_cmd.py -> build/bdist.linux-x86_64/egg/bin\n",
            "byte-compiling build/bdist.linux-x86_64/egg/rouge/rouge.py to rouge.cpython-310.pyc\n",
            "byte-compiling build/bdist.linux-x86_64/egg/rouge/__init__.py to __init__.cpython-310.pyc\n",
            "byte-compiling build/bdist.linux-x86_64/egg/rouge/rouge_score.py to rouge_score.cpython-310.pyc\n",
            "byte-compiling build/bdist.linux-x86_64/egg/bin/__init__.py to __init__.cpython-310.pyc\n",
            "byte-compiling build/bdist.linux-x86_64/egg/bin/rouge_cmd.py to rouge_cmd.cpython-310.pyc\n",
            "creating build/bdist.linux-x86_64/egg/EGG-INFO\n",
            "copying rouge.egg-info/PKG-INFO -> build/bdist.linux-x86_64/egg/EGG-INFO\n",
            "copying rouge.egg-info/SOURCES.txt -> build/bdist.linux-x86_64/egg/EGG-INFO\n",
            "copying rouge.egg-info/dependency_links.txt -> build/bdist.linux-x86_64/egg/EGG-INFO\n",
            "copying rouge.egg-info/entry_points.txt -> build/bdist.linux-x86_64/egg/EGG-INFO\n",
            "copying rouge.egg-info/requires.txt -> build/bdist.linux-x86_64/egg/EGG-INFO\n",
            "copying rouge.egg-info/top_level.txt -> build/bdist.linux-x86_64/egg/EGG-INFO\n",
            "zip_safe flag not set; analyzing archive contents...\n",
            "creating dist\n",
            "creating 'dist/rouge-1.0.1-py3.10.egg' and adding 'build/bdist.linux-x86_64/egg' to it\n",
            "removing 'build/bdist.linux-x86_64/egg' (and everything under it)\n",
            "Processing rouge-1.0.1-py3.10.egg\n",
            "Copying rouge-1.0.1-py3.10.egg to /usr/local/lib/python3.10/dist-packages\n",
            "Adding rouge 1.0.1 to easy-install.pth file\n",
            "Installing rouge script to /usr/local/bin\n",
            "\n",
            "Installed /usr/local/lib/python3.10/dist-packages/rouge-1.0.1-py3.10.egg\n",
            "Processing dependencies for rouge==1.0.1\n",
            "Searching for six==1.16.0\n",
            "Best match: six 1.16.0\n",
            "Adding six 1.16.0 to easy-install.pth file\n",
            "\n",
            "Using /usr/local/lib/python3.10/dist-packages\n",
            "Finished processing dependencies for rouge==1.0.1\n"
          ]
        }
      ]
    },
    {
      "cell_type": "code",
      "source": [
        "from rouge import rouge\n",
        "\n",
        "ref_summaries = []\n",
        "for i in range(4):\n",
        "    with open(f'ref_summary{i+1}.txt', 'r') as f:\n",
        "        ref_summaries.append(f.read().strip())\n",
        "\n",
        "with open('final_summary.txt', 'r') as f:\n",
        "    generated_summary = f.read().strip()\n",
        "\n",
        "Rouge = FilesRouge()\n",
        "\n",
        "scores = []\n",
        "for ref_summary in ref_summaries:\n",
        "    score = Rouge.get_scores(final_summary, ref_summary)\n",
        "    scores.append(score)\n",
        "\n",
        "avg_rouge_1 = sum([score['rouge-1'] for score in scores]) / len(scores)  #unigram\n",
        "avg_rouge_2 = sum([score['rouge-2'] for score in scores]) / len(scores)  #bigram\n",
        "avg_rouge_l = sum([score['rouge-l']  for score in scores]) / len(scores) #longest common subsequence\n",
        "\n",
        "print(f'ROUGE-1: {avg_rouge_1:.4f}')\n",
        "print(f'ROUGE-2: {avg_rouge_2:.4f}')\n",
        "print(f'ROUGE-L: {avg_rouge_l:.4f}')"
      ],
      "metadata": {
        "colab": {
          "base_uri": "https://localhost:8080/",
          "height": 244
        },
        "id": "laRdn8AOgugU",
        "outputId": "295874db-57c6-43dd-bb80-e2e19ce3d490"
      },
      "execution_count": null,
      "outputs": [
        {
          "output_type": "error",
          "ename": "FileNotFoundError",
          "evalue": "ignored",
          "traceback": [
            "\u001b[0;31m---------------------------------------------------------------------------\u001b[0m",
            "\u001b[0;31mFileNotFoundError\u001b[0m                         Traceback (most recent call last)",
            "\u001b[0;32m<ipython-input-96-0febf5497c5f>\u001b[0m in \u001b[0;36m<cell line: 4>\u001b[0;34m()\u001b[0m\n\u001b[1;32m      3\u001b[0m \u001b[0mref_summaries\u001b[0m \u001b[0;34m=\u001b[0m \u001b[0;34m[\u001b[0m\u001b[0;34m]\u001b[0m\u001b[0;34m\u001b[0m\u001b[0;34m\u001b[0m\u001b[0m\n\u001b[1;32m      4\u001b[0m \u001b[0;32mfor\u001b[0m \u001b[0mi\u001b[0m \u001b[0;32min\u001b[0m \u001b[0mrange\u001b[0m\u001b[0;34m(\u001b[0m\u001b[0;36m4\u001b[0m\u001b[0;34m)\u001b[0m\u001b[0;34m:\u001b[0m\u001b[0;34m\u001b[0m\u001b[0;34m\u001b[0m\u001b[0m\n\u001b[0;32m----> 5\u001b[0;31m     \u001b[0;32mwith\u001b[0m \u001b[0mopen\u001b[0m\u001b[0;34m(\u001b[0m\u001b[0;34mf'ref_summary{i+1}.txt'\u001b[0m\u001b[0;34m,\u001b[0m \u001b[0;34m'r'\u001b[0m\u001b[0;34m)\u001b[0m \u001b[0;32mas\u001b[0m \u001b[0mf\u001b[0m\u001b[0;34m:\u001b[0m\u001b[0;34m\u001b[0m\u001b[0;34m\u001b[0m\u001b[0m\n\u001b[0m\u001b[1;32m      6\u001b[0m         \u001b[0mref_summaries\u001b[0m\u001b[0;34m.\u001b[0m\u001b[0mappend\u001b[0m\u001b[0;34m(\u001b[0m\u001b[0mf\u001b[0m\u001b[0;34m.\u001b[0m\u001b[0mread\u001b[0m\u001b[0;34m(\u001b[0m\u001b[0;34m)\u001b[0m\u001b[0;34m.\u001b[0m\u001b[0mstrip\u001b[0m\u001b[0;34m(\u001b[0m\u001b[0;34m)\u001b[0m\u001b[0;34m)\u001b[0m\u001b[0;34m\u001b[0m\u001b[0;34m\u001b[0m\u001b[0m\n\u001b[1;32m      7\u001b[0m \u001b[0;34m\u001b[0m\u001b[0m\n",
            "\u001b[0;31mFileNotFoundError\u001b[0m: [Errno 2] No such file or directory: 'ref_summary1.txt'"
          ]
        }
      ]
    }
  ],
  "metadata": {
    "colab": {
      "provenance": []
    },
    "gpuClass": "standard",
    "kernelspec": {
      "display_name": "Python 3",
      "name": "python3"
    },
    "language_info": {
      "name": "python"
    }
  },
  "nbformat": 4,
  "nbformat_minor": 0
}